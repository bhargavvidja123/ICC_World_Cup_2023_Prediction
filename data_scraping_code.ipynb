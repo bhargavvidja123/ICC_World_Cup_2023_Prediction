{
  "nbformat": 4,
  "nbformat_minor": 0,
  "metadata": {
    "colab": {
      "provenance": []
    },
    "kernelspec": {
      "name": "python3",
      "display_name": "Python 3"
    },
    "language_info": {
      "name": "python"
    }
  },
  "cells": [
    {
      "cell_type": "code",
      "execution_count": 7,
      "metadata": {
        "id": "ntNL_Ny0beKw"
      },
      "outputs": [],
      "source": [
        "import requests\n",
        "from bs4 import BeautifulSoup\n",
        "import csv\n",
        "\n",
        "# Send an HTTP request to the website you want to scrape\n",
        "response = requests.get('https://www.espncricinfo.com/cricketers')\n",
        "\n",
        "# Parse the HTML response using Beautiful Soup\n",
        "soup = BeautifulSoup(response.content, 'html.parser')\n",
        "\n",
        "# Extract the data you want to scrape using Beautiful Soup's CSS selectors\n",
        "player_names = soup.select('.ci-player-name')\n",
        "player_batting_averages = soup.select('.ci-player-batting-average')\n",
        "\n",
        "# Create a list to store the scraped data\n",
        "scraped_data = []\n",
        "\n",
        "# Iterate over the player names and batting averages, and add them to the scraped data list\n",
        "for player_name, player_batting_average in zip(player_names, player_batting_averages):\n",
        "    scraped_data.append({\n",
        "        'player_name': player_name.text,\n",
        "        'player_batting_average': player_batting_average.text\n",
        "    })\n",
        "\n",
        "# Save the scraped data to a file\n",
        "with open('scraped_data.csv', 'w') as f:\n",
        "    writer = csv.writer(f)\n",
        "    writer.writerow(['player_name', 'player_batting_average'])\n",
        "    for player in scraped_data:\n",
        "        writer.writerow([player['player_name'], player['player_batting_average']])"
      ]
    }
  ]
}